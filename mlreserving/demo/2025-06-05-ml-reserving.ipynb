{
  "cells": [
    {
      "cell_type": "markdown",
      "metadata": {},
      "source": [
        "# ML Reserving - 2025-06-05 (work in progress)"
      ]
    },
    {
      "cell_type": "markdown",
      "metadata": {},
      "source": [
        "<a target=\"_blank\" href=\"https://colab.research.google.com/github/Techtonique/mlreserving/blob/main/mlreserving/demo/2025-06-05-ml-reserving.ipynb\">\n",
        "  <img src=\"https://colab.research.google.com/assets/colab-badge.svg\" alt=\"Open In Colab\"/>\n",
        "</a>"
      ]
    },
    {
      "cell_type": "code",
      "execution_count": null,
      "metadata": {
        "id": "va-efr_9jpXD"
      },
      "outputs": [
        {
          "ename": "",
          "evalue": "",
          "output_type": "error",
          "traceback": [
            "\u001b[1;31mRunning cells with 'venv (Python 3.12.7)' requires the ipykernel package.\n",
            "\u001b[1;31mRun the following command to install 'ipykernel' into the Python environment. \n",
            "\u001b[1;31mCommand: '/Users/t/Documents/Python_Packages/mlreserving/venv/bin/python -m pip install ipykernel -U --force-reinstall'"
          ]
        }
      ],
      "source": [
        "!pip install git+https://github.com/Techtonique/mlreserving.git --verbose"
      ]
    },
    {
      "cell_type": "code",
      "execution_count": null,
      "metadata": {
        "colab": {
          "base_uri": "https://localhost:8080/",
          "height": 1000
        },
        "id": "sSReGchajs4A",
        "outputId": "afd524a5-8365-4c1b-add3-ec63c873f0f3"
      },
      "outputs": [],
      "source": [
        "import pandas as pd\n",
        "import numpy as np\n",
        "import matplotlib.pyplot as plt\n",
        "from mlreserving import MLReserving\n",
        "from sklearn.ensemble import ExtraTreesRegressor, RandomForestRegressor\n",
        "from sklearn.linear_model import RidgeCV\n",
        "\n",
        "# Load the dataset\n",
        "url = \"https://raw.githubusercontent.com/Techtonique/datasets/refs/heads/main/tabular/triangle/raa.csv\"\n",
        "df = pd.read_csv(url)\n",
        "\n",
        "print(df.head())\n",
        "print(df.tail())\n",
        "#df[\"values\"] = df[\"values\"]/1000\n",
        "\n",
        "models = [RidgeCV(), ExtraTreesRegressor(), RandomForestRegressor()]\n",
        "\n",
        "# Try both factor and non-factor approaches\n",
        "for use_factors in [False, True]:\n",
        "    print(f\"\\n{'='*50}\")\n",
        "    print(f\"Using {'factors' if use_factors else 'log transformations'}\")\n",
        "    print(f\"{'='*50}\\n\")\n",
        "\n",
        "    for mdl in models:\n",
        "        # Initialize the model with prediction intervals\n",
        "        model = MLReserving(model=mdl,\n",
        "            level=95,  # 95% confidence level\n",
        "            use_factors=use_factors,  # Use categorical encoding\n",
        "            random_state=42\n",
        "        )\n",
        "\n",
        "        # Fit the model\n",
        "        model.fit(df, origin_col=\"origin\", development_col=\"development\", value_col=\"values\")\n",
        "\n",
        "        # Make predictions with intervals\n",
        "        result = model.predict() # triangles, with lower and upper bounds\n",
        "        ibnr = model.get_ibnr()\n",
        "\n",
        "        print(\"\\nMean predictions:\")\n",
        "        print(result.mean)\n",
        "        print(\"\\nIBNR per origin year (mean):\")\n",
        "        print(ibnr.mean)\n",
        "\n",
        "        print(\"\\nLower bound (95%):\")\n",
        "        print(result.lower)\n",
        "        print(\"\\nIBNR per origin year (lower):\")\n",
        "        print(ibnr.lower)\n",
        "\n",
        "        print(\"\\nUpper bound (95%):\")\n",
        "        print(result.upper)\n",
        "        print(\"\\nIBNR per origin year (upper):\")\n",
        "        print(ibnr.upper)\n",
        "\n",
        "        # Display results\n",
        "        print(\"\\nMean predictions:\")\n",
        "        result.mean.plot()\n",
        "        plt.title(f'Mean Predictions - {mdl.__class__.__name__} ({use_factors and \"Factors\" or \"Log\"})')\n",
        "        plt.show()\n",
        "\n",
        "        print(\"\\nLower bound (95%):\")\n",
        "        result.lower.plot()\n",
        "        plt.title(f'Lower Bound - {mdl.__class__.__name__} ({use_factors and \"Factors\" or \"Log\"})')\n",
        "        plt.show()\n",
        "\n",
        "        print(\"\\nUpper bound (95%):\")\n",
        "        result.upper.plot()\n",
        "        plt.title(f'Upper Bound - {mdl.__class__.__name__} ({use_factors and \"Factors\" or \"Log\"})')\n",
        "        plt.show()\n",
        "\n",
        "        # Plot IBNR\n",
        "        plt.figure(figsize=(10, 6))\n",
        "        plt.plot(ibnr.mean.index, ibnr.mean.values, 'b-', label='Mean IBNR')\n",
        "        plt.fill_between(ibnr.mean.index,\n",
        "                         ibnr.lower.values,\n",
        "                         ibnr.upper.values,\n",
        "                        alpha=0.2,\n",
        "                        label='95% Confidence Interval')\n",
        "        plt.title(f'IBNR per Origin Year - {mdl.__class__.__name__} ({use_factors and \"Factors\" or \"Log\"})')\n",
        "        plt.xlabel('Origin Year')\n",
        "        plt.ylabel('IBNR')\n",
        "        plt.legend()\n",
        "        plt.grid(True)\n",
        "        plt.show()"
      ]
    }
  ],
  "metadata": {
    "colab": {
      "provenance": []
    },
    "kernelspec": {
      "display_name": "venv",
      "language": "python",
      "name": "python3"
    },
    "language_info": {
      "name": "python",
      "version": "3.12.7"
    }
  },
  "nbformat": 4,
  "nbformat_minor": 0
}

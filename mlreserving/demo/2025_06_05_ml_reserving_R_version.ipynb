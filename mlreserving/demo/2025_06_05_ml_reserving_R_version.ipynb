{
  "cells": [
    {
      "cell_type": "markdown",
      "metadata": {
        "id": "v60TOa8Efo3l"
      },
      "source": [
        "# R version of ML Reserving - 2025-06-05 (work in progress)"
      ]
    },
    {
      "cell_type": "markdown",
      "metadata": {
        "id": "RpMbSSc7fo3x"
      },
      "source": [
        "<a target=\"_blank\" href=\"https://colab.research.google.com/github/Techtonique/mlreserving/blob/main/mlreserving/demo/2025_06_05_ml_reserving_R_version.ipynb\">\n",
        "  <img src=\"https://colab.research.google.com/assets/colab-badge.svg\" alt=\"Open In Colab\"/>\n",
        "</a>"
      ]
    },
    {
      "cell_type": "code",
      "execution_count": null,
      "metadata": {
        "id": "va-efr_9jpXD"
      },
      "outputs": [],
      "source": [
        "!pip install mlreserving --verbose"
      ]
    },
    {
      "cell_type": "code",
      "execution_count": 2,
      "metadata": {
        "id": "mprXQ10lib1M"
      },
      "outputs": [],
      "source": [
        "%load_ext rpy2.ipython"
      ]
    },
    {
      "cell_type": "code",
      "execution_count": null,
      "metadata": {
        "id": "Gdt3I8gwud7z"
      },
      "outputs": [],
      "source": [
        "%%R\n",
        "\n",
        "install.packages(\"reticulate\")"
      ]
    },
    {
      "cell_type": "code",
      "execution_count": 4,
      "metadata": {
        "colab": {
          "base_uri": "https://localhost:8080/",
          "height": 1000
        },
        "id": "oq0KLfqEiB68",
        "outputId": "fe66e664-a210-40b0-ccc8-891f9417dbd0"
      },
      "outputs": [
        {
          "name": "stdout",
          "output_type": "stream",
          "text": [
            "\n",
            "    WARNING: The R package \"reticulate\" only fixed recently\n",
            "    an issue that caused a segfault when used with rpy2:\n",
            "    https://github.com/rstudio/reticulate/pull/1188\n",
            "    Make sure that you use a version of that package that includes\n",
            "    the fix.\n",
            "      development origin values\n",
            "1        1981   1981   5012\n",
            "2        1982   1982    106\n",
            "3        1983   1983   3410\n",
            "4        1984   1984   5655\n",
            "5        1985   1985   1092\n",
            "6        1986   1986   1513\n",
            "   development origin values\n",
            "50        1988   1981  18608\n",
            "51        1989   1982  16169\n",
            "52        1990   1983  23466\n",
            "53        1989   1981  18662\n",
            "54        1990   1982  16704\n",
            "55        1990   1981  18834\n",
            "   development  origin  values\n",
            "0         1981    1981 5012.00\n",
            "1         1982    1982  106.00\n",
            "2         1983    1983 3410.00\n",
            "3         1984    1984 5655.00\n",
            "4         1985    1985 1092.00\n",
            "    development  origin   values\n",
            "50         1989    1982 16169.00\n",
            "51         1990    1983 23466.00\n",
            "52         1989    1981 18662.00\n",
            "53         1990    1982 16704.00\n",
            "54         1990    1981 18834.00\n",
            "DescribeResult(mean=origin     1981     1982     1983     1984     1985     1986     1987  \\\n",
            "dev                                                                     \n",
            "1       3257.00  4179.00  5582.00  5900.00  8473.00  4932.00  3463.00   \n",
            "2       6514.00  8358.00 11164.00 11800.00 16946.00  9864.00  6926.00   \n",
            "3       9152.00  9469.00 16045.00 16011.00 23217.00 15121.00 13852.00   \n",
            "4      10050.00 14739.00 18313.00 21511.00 29550.00 16354.00 15220.00   \n",
            "5      11784.00 17855.00 20907.00 23670.00 33336.00 19271.00 15860.92   \n",
            "6      14426.00 19672.00 24386.00 26328.00 33561.00 19923.70 16513.62   \n",
            "7      16254.00 19569.00 25035.00 27312.00 33630.21 19992.91 16582.84   \n",
            "8      16853.00 20242.00 25638.00 27886.39 34204.60 20567.30 17157.23   \n",
            "9      16907.00 20777.00 25996.21 28244.60 34562.82 20925.52 17515.44   \n",
            "10     17079.00 21045.93 26312.04 28560.43 34878.64 21241.34 17831.26   \n",
            "\n",
            "origin     1988    1989    1990  \n",
            "dev                              \n",
            "1       5596.00 2262.00  841.77  \n",
            "2      11192.00 4524.00 1674.49  \n",
            "3      17357.00 5214.25 2364.74  \n",
            "4      17996.21 5853.46 3003.95  \n",
            "5      18637.13 6494.38 3644.87  \n",
            "6      19289.83 7147.08 4297.57  \n",
            "7      19359.04 7216.30 4366.79  \n",
            "8      19933.43 7790.68 4941.18  \n",
            "9      20291.65 8148.90 5299.39  \n",
            "10     20607.47 8464.72 5615.22  , lower=origin     1981     1982     1983     1984     1985     1986     1987  \\\n",
            "dev                                                                     \n",
            "1       3257.00  4179.00  5582.00  5900.00  8473.00  4932.00  3463.00   \n",
            "2       6514.00  8358.00 11164.00 11800.00 16946.00  9864.00  6926.00   \n",
            "3       9152.00  9469.00 16045.00 16011.00 23217.00 15121.00 13852.00   \n",
            "4      10050.00 14739.00 18313.00 21511.00 29550.00 16354.00 15220.00   \n",
            "5      11784.00 17855.00 20907.00 23670.00 33336.00 19271.00 15236.45   \n",
            "6      14426.00 19672.00 24386.00 26328.00 33561.00 19287.77 15253.22   \n",
            "7      16254.00 19569.00 25035.00 27312.00 33561.78 19288.55 15254.00   \n",
            "8      16853.00 20242.00 25638.00 27326.64 33576.42 19303.19 15268.64   \n",
            "9      16907.00 20777.00 25646.75 27335.39 33585.16 19311.93 15277.38   \n",
            "10     17079.00 20783.31 25654.34 27342.98 33592.76 19319.53 15284.98   \n",
            "\n",
            "origin     1988    1989   1990  \n",
            "dev                             \n",
            "1       5596.00 2262.00  21.92  \n",
            "2      11192.00 4524.00  43.59  \n",
            "3      17357.00 4541.79  61.38  \n",
            "4      17373.40 4558.20  77.78  \n",
            "5      17389.85 4574.65  94.23  \n",
            "6      17406.62 4591.42 111.00  \n",
            "7      17407.40 4592.20 111.78  \n",
            "8      17422.04 4606.83 126.42  \n",
            "9      17430.79 4615.58 135.17  \n",
            "10     17438.38 4623.17 142.76  , upper=origin     1981     1982     1983     1984     1985     1986      1987  \\\n",
            "dev                                                                      \n",
            "1       3257.00  4179.00  5582.00  5900.00  8473.00  4932.00   3463.00   \n",
            "2       6514.00  8358.00 11164.00 11800.00 16946.00  9864.00   6926.00   \n",
            "3       9152.00  9469.00 16045.00 16011.00 23217.00 15121.00  13852.00   \n",
            "4      10050.00 14739.00 18313.00 21511.00 29550.00 16354.00  15220.00   \n",
            "5      11784.00 17855.00 20907.00 23670.00 33336.00 19271.00  38814.12   \n",
            "6      14426.00 19672.00 24386.00 26328.00 33561.00 43297.97  62841.09   \n",
            "7      16254.00 19569.00 25035.00 27312.00 36140.99 45877.97  65421.08   \n",
            "8      16853.00 20242.00 25638.00 48460.53 57289.52 67026.50  86569.62   \n",
            "9      16907.00 20777.00 38840.61 61663.15 70492.14 80229.11  99772.23   \n",
            "10     17079.00 30697.91 50485.15 73307.68 82136.67 91873.64 111416.76   \n",
            "\n",
            "origin      1988      1989      1990  \n",
            "dev                                   \n",
            "1        5596.00   2262.00  30976.66  \n",
            "2       11192.00   4524.00  61620.69  \n",
            "3       17357.00  29931.28  87027.97  \n",
            "4       40888.05  53462.33 110559.02  \n",
            "5       64482.17  77056.45 134153.14  \n",
            "6       88509.14 101083.42 158180.11  \n",
            "7       91089.14 103663.41 160760.10  \n",
            "8      112237.67 124811.95 181908.64  \n",
            "9      125440.28 138014.56 195111.25  \n",
            "10     137084.81 149659.09 206755.78  )\n"
          ]
        },
        {
          "data": {
            "text/plain": [
              "Need help getting started? Try the R Graphics Cookbook:\n",
              "https://r-graphics.org\n",
              "\n",
              "Attaching package: ‘dplyr’\n",
              "\n",
              "The following objects are masked from ‘package:stats’:\n",
              "\n",
              "    filter, lag\n",
              "\n",
              "The following objects are masked from ‘package:base’:\n",
              "\n",
              "    intersect, setdiff, setequal, union\n",
              "\n"
            ]
          },
          "metadata": {},
          "output_type": "display_data"
        },
        {
          "data": {
            "image/png": "[encoded data removed]",
            "text/plain": [
              "<IPython.core.display.Image object>"
            ]
          },
          "metadata": {},
          "output_type": "display_data"
        }
      ],
      "source": [
        "%%R\n",
        "\n",
        "library(reticulate)\n",
        "library(ggplot2)\n",
        "library(dplyr)\n",
        "\n",
        "# Import Python modules\n",
        "pd <- import(\"pandas\")\n",
        "np <- import(\"numpy\")\n",
        "plt <- import(\"matplotlib.pyplot\")\n",
        "MLReserving <- import(\"mlreserving\")$MLReserving\n",
        "RidgeCV <- import(\"sklearn.linear_model\")$RidgeCV\n",
        "ExtraTreesRegressor <- import(\"sklearn.ensemble\")$ExtraTreesRegressor\n",
        "RandomForestRegressor <- import(\"sklearn.ensemble\")$RandomForestRegressor\n",
        "\n",
        "# Load the dataset\n",
        "url <- \"https://raw.githubusercontent.com/Techtonique/datasets/refs/heads/main/tabular/triangle/raa.csv\"\n",
        "df <- pd$read_csv(url)\n",
        "\n",
        "# Print head and tail\n",
        "print(head(df))\n",
        "print(tail(df))\n",
        "\n",
        "library(reticulate)\n",
        "library(ggplot2)\n",
        "library(dplyr)\n",
        "\n",
        "# Import Python modules with convert=FALSE for more control\n",
        "pd <- import(\"pandas\", convert=FALSE)\n",
        "np <- import(\"numpy\", convert=FALSE)\n",
        "MLReserving <- import(\"mlreserving\", convert=FALSE)$MLReserving\n",
        "RidgeCV <- import(\"sklearn.linear_model\", convert=FALSE)$RidgeCV\n",
        "ExtraTreesRegressor <- import(\"sklearn.ensemble\", convert=FALSE)$ExtraTreesRegressor\n",
        "RandomForestRegressor <- import(\"sklearn.ensemble\", convert=FALSE)$RandomForestRegressor\n",
        "\n",
        "# Load the dataset and convert to Python object\n",
        "url <- \"https://raw.githubusercontent.com/Techtonique/datasets/refs/heads/main/tabular/triangle/raa.csv\"\n",
        "py_df <- pd$read_csv(url)\n",
        "\n",
        "# Print head and tail\n",
        "print(py_df$head())\n",
        "print(py_df$tail())\n",
        "\n",
        "# Create models list\n",
        "mdl <- RandomForestRegressor()\n",
        "\n",
        "# Helper function to create Python integers\n",
        "py_int <- function(x) {\n",
        "  floor(x)\n",
        "}\n",
        "\n",
        "# Initialize the model with explicit Python integers\n",
        "model <- MLReserving(\n",
        "  model = mdl,\n",
        "  level = py_int(95),  # 95% confidence level\n",
        "  random_state = py_int(42)\n",
        ")\n",
        "\n",
        "# Fit the model\n",
        "model$fit(\n",
        "  py_df,\n",
        "  origin_col = \"origin\",\n",
        "  development_col = \"development\",\n",
        "  value_col = \"values\"\n",
        ")\n",
        "\n",
        "# Uncomment to make predictions\n",
        "result <- model$predict()\n",
        "print(result)\n",
        "\n",
        "ibnr <- model$get_ibnr()\n",
        "\n",
        "(mean_df <- py_to_r(ibnr$mean))\n",
        "(lower_df <- py_to_r(ibnr$lower))\n",
        "(upper_df <- py_to_r(ibnr$upper))\n",
        "\n",
        "mean_vals <- mean_df\n",
        "lower_vals <- lower_df\n",
        "upper_vals <- upper_df\n",
        "\n",
        "# Get origin years as numeric values\n",
        "years <- as.numeric(names(mean_vals))\n",
        "\n",
        "# Set up plot\n",
        "plot(years, mean_vals,\n",
        "     ylim = range(c(lower_vals, upper_vals)),\n",
        "     xlab = \"Origin Year\", ylab = \"IBNR Value\",\n",
        "     main = \"IBNR Estimates with Confidence Interval\",\n",
        "     pch = 19, col = \"blue\", type = \"n\")\n",
        "\n",
        "# Add polygons and lines\n",
        "for (i in seq_along(years)) {\n",
        "  # Coordinates for polygon: x and y pairs for upper and lower bounds\n",
        "  x_poly <- c(years[i] - 0.2, years[i] + 0.2, years[i] + 0.2, years[i] - 0.2)\n",
        "  y_poly <- c(lower_vals[i], lower_vals[i], upper_vals[i], upper_vals[i])\n",
        "\n",
        "  polygon(x_poly, y_poly, col = rgb(0, 0, 1, 0.2), border = NA)\n",
        "\n",
        "  # Draw the mean point on top\n",
        "  points(years[i], mean_vals[i], pch = 19, col = \"blue\")\n",
        "}\n",
        "\n",
        "# Optional: Add a legend\n",
        "legend(\"topleft\", legend = c(\"IBNR Mean\", \"Confidence Interval\"),\n",
        "       col = c(\"blue\", rgb(0, 0, 1, 0.2)), pch = c(19, 15), bty = \"n\")"
      ]
    }
  ],
  "metadata": {
    "colab": {
      "provenance": []
    },
    "kernelspec": {
      "display_name": "venv",
      "language": "python",
      "name": "python3"
    },
    "language_info": {
      "codemirror_mode": {
        "name": "ipython",
        "version": 3
      },
      "file_extension": ".py",
      "mimetype": "text/x-python",
      "name": "python",
      "nbconvert_exporter": "python",
      "pygments_lexer": "ipython3",
      "version": "3.12.1"
    }
  },
  "nbformat": 4,
  "nbformat_minor": 0
}
